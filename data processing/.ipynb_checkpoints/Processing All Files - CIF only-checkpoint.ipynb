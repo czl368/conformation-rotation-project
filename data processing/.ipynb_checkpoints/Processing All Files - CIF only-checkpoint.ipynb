{
 "cells": [
  {
   "cell_type": "code",
   "execution_count": null,
   "id": "cabfb3f9",
   "metadata": {},
   "outputs": [],
   "source": [
    "import biotite.structure as struc\n",
    "import biotite.structure.io.pdbx as pdbx\n",
    "import pickle\n",
    "import numpy as np\n",
    "from utils.features_edit_v1 import get_features\n",
    "from pathlib import Path\n",
    "\n",
    "#Global variables\n",
    "file = 0\n",
    "max_altloc = 6\n",
    "\n",
    "#Iterating through all cif files in a specific directory\n",
    "cif_files = Path(\"/Users/christinali/Documents/Rotations/Kim Lab/All pdb files\").glob(\"*.cif\")\n",
    "\n",
    "for cif in cif_files:\n",
    "    pdb_id = cif.stem.upper() #need pdb ids to be uppercase to access exptl.method\n",
    "    file += 1\n",
    "    print(file)\n",
    "    \n",
    "    #Read file\n",
    "    cif_file_r = pdbx.PDBxFile.read(cif)\n",
    "    method_used = cif_file_r[pdb_id,\"exptl\"][\"method\"]\n",
    "    \n",
    "    #Check if X-Ray Crystallography\n",
    "    if type(method_used) != str or method_used != \"X-RAY DIFFRACTION\":\n",
    "        continue\n",
    "\n",
    "    #Get features\n",
    "    features = get_features(cif,max_altloc)\n",
    "    \n",
    "    #save as pkl file in separate folder\n",
    "    file_name = pdb_id + \".pkl\"\n",
    "    file_path = Path(\"/Users/christinali/Documents/Rotations/Kim Lab/Processed Files\")/ file_name\n",
    "    \n",
    "    #serialize dictionary to a pickle file\n",
    "    with open(file_path,\"wb\") as f:\n",
    "        pickle.dump(features,f)\n",
    "        \n",
    "    f.close()\n",
    "    \n",
    "cif_files.close()\n",
    "\n",
    "print(\"Finished Processing All Files\")"
   ]
  }
 ],
 "metadata": {
  "kernelspec": {
   "display_name": "Python 3 (ipykernel)",
   "language": "python",
   "name": "python3"
  },
  "language_info": {
   "codemirror_mode": {
    "name": "ipython",
    "version": 3
   },
   "file_extension": ".py",
   "mimetype": "text/x-python",
   "name": "python",
   "nbconvert_exporter": "python",
   "pygments_lexer": "ipython3",
   "version": "3.11.6"
  }
 },
 "nbformat": 4,
 "nbformat_minor": 5
}
