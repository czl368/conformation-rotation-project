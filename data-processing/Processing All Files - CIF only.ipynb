{
 "cells": [
  {
   "cell_type": "code",
   "execution_count": 3,
   "id": "cabfb3f9",
   "metadata": {},
   "outputs": [
    {
     "name": "stdout",
     "output_type": "stream",
     "text": [
      "1\n",
      "(520, 6, 14)\n",
      "2\n",
      "3\n",
      "4\n",
      "5\n",
      "6\n",
      "(141, 6, 14)\n",
      "7\n",
      "(198, 6, 14)\n",
      "8\n",
      "(414, 6, 14)\n",
      "9\n",
      "(122, 6, 14)\n",
      "10\n",
      "(203, 6, 14)\n",
      "11\n",
      "(239, 6, 14)\n",
      "12\n",
      "13\n",
      "14\n",
      "(21, 6, 14)\n",
      "15\n",
      "16\n",
      "17\n",
      "(342, 6, 14)\n",
      "18\n",
      "(199, 6, 14)\n",
      "19\n"
     ]
    }
   ],
   "source": [
    "import biotite.structure as struc\n",
    "import biotite.structure.io.pdbx as pdbx\n",
    "import pickle\n",
    "import numpy as np\n",
    "from utils.features_edit_v1 import get_features\n",
    "from pathlib import Path\n",
    "\n",
    "#Global variables\n",
    "file = 0\n",
    "max_altloc = 6\n",
    "\n",
    "#Iterating through all cif files in a specific directory\n",
    "cif_files = Path(\"/Users/christinali/Documents/Rotations/Kim Lab/All pdb files\").glob(\"*.cif\")\n",
    "#cif_files = Path(\"/Users/christinali/Documents/Rotations/Kim Lab\").glob(\"*.cif\")\n",
    "\n",
    "for cif in cif_files:\n",
    "    pdb_id = cif.stem.upper() #need pdb ids to be uppercase to access exptl.method\n",
    "    file += 1\n",
    "    print(file)\n",
    "    #print(pdb_id)\n",
    "    \n",
    "    #Read file\n",
    "    cif_file_r = pdbx.PDBxFile.read(cif)\n",
    "    method_used = cif_file_r[pdb_id,\"exptl\"][\"method\"]\n",
    "    \n",
    "    #Check if x-ray\n",
    "    if type(method_used) != str or method_used != \"X-RAY DIFFRACTION\":\n",
    "        #print(\"out\")\n",
    "        continue\n",
    "\n",
    "    #get features\n",
    "    features = get_features(cif,max_altloc)\n",
    "    \n",
    "    #save as npy file in separate folder\n",
    "    file_name = pdb_id + \".pkl\"\n",
    "    file_path = Path(\"/Users/christinali/Documents/Rotations/Kim Lab/Processed Files\")/ file_name\n",
    "    \n",
    "    #serialize dictionary to a pickle file\n",
    "    with open(file_path,\"wb\") as f:\n",
    "        pickle.dump(features,f)\n",
    "        \n",
    "    f.close()\n",
    "    \n",
    "    #deserialize dictionary\n",
    "    #with open(file_path,\"rb\") as f:\n",
    "        #deserialized_dict = pickle.load(f)\n",
    "        #print(np.shape(deserialized_dict['num_altloc']))\n",
    "        #print(np.shape(deserialized_dict['b_factor']))\n",
    "        #print(deserialized_dict['id'])\n",
    "        #print(np.max(deserialized_dict['num_altloc']))\n",
    "        #print(deserialized_dict['num_altloc'])\n",
    "\n",
    "cif_files.close()"
   ]
  },
  {
   "cell_type": "code",
   "execution_count": null,
   "id": "73bc0252",
   "metadata": {},
   "outputs": [],
   "source": []
  },
  {
   "cell_type": "code",
   "execution_count": null,
   "id": "e7ccd44f",
   "metadata": {},
   "outputs": [],
   "source": []
  },
  {
   "cell_type": "code",
   "execution_count": null,
   "id": "c9dbc252",
   "metadata": {},
   "outputs": [],
   "source": []
  }
 ],
 "metadata": {
  "kernelspec": {
   "display_name": "Python 3 (ipykernel)",
   "language": "python",
   "name": "python3"
  },
  "language_info": {
   "codemirror_mode": {
    "name": "ipython",
    "version": 3
   },
   "file_extension": ".py",
   "mimetype": "text/x-python",
   "name": "python",
   "nbconvert_exporter": "python",
   "pygments_lexer": "ipython3",
   "version": "3.11.6"
  }
 },
 "nbformat": 4,
 "nbformat_minor": 5
}
