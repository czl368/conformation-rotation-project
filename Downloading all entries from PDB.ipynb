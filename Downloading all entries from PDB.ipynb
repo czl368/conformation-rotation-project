{
 "cells": [
  {
   "cell_type": "code",
   "execution_count": 2,
   "id": "518435df",
   "metadata": {
    "scrolled": true
   },
   "outputs": [],
   "source": [
    "import biotite.database.rcsb as rcsb\n",
    "import biotite.structure.io.pdbx as pdbx\n",
    "import numpy as np\n",
    "import biotite.structure as struc"
   ]
  },
  {
   "cell_type": "code",
   "execution_count": 3,
   "id": "e25ad85a",
   "metadata": {},
   "outputs": [
    {
     "name": "stdout",
     "output_type": "stream",
     "text": [
      "1243\n"
     ]
    }
   ],
   "source": [
    "#Query for resolution below than 2Å\n",
    "query = rcsb.FieldQuery(\"reflns.d_resolution_high\", less=2)\n",
    "pdb_ids = rcsb.search(query)\n",
    "\n",
    "print(len(pdb_ids))\n",
    "\n",
    "#Downloading all pdb files with resolution below 2A\n",
    "#file_path = rcsb.fetch(pdb_ids, \"cif\", target_path=\"/Users/christinali/Documents/Rotations/Kim Lab/All pdb files\")"
   ]
  },
  {
   "cell_type": "code",
   "execution_count": null,
   "id": "c80a1973",
   "metadata": {},
   "outputs": [],
   "source": [
    "#For all pdb entries\n",
    "#Reading in pdb file list\n",
    "#import json\n",
    "\n",
    "#pdb_id_list = []\n",
    "\n",
    "#f = open(\"current_file_holdings-2.json\")\n",
    "#pdb_data = json.load(f)\n",
    "\n",
    "#for i in pdb_data:\n",
    "    #pdb_id_list.append(i)\n",
    "\n",
    "#f.close()\n",
    "\n",
    "#Download all pdb files in cif format\n",
    "#file_path_all = rcsb.fetch(pdb_id_list, \"cif\", target_path=\"/Users/christinali/Documents/Rotations/Kim Lab/All pdb files\")"
   ]
  }
 ],
 "metadata": {
  "kernelspec": {
   "display_name": "Python 3 (ipykernel)",
   "language": "python",
   "name": "python3"
  },
  "language_info": {
   "codemirror_mode": {
    "name": "ipython",
    "version": 3
   },
   "file_extension": ".py",
   "mimetype": "text/x-python",
   "name": "python",
   "nbconvert_exporter": "python",
   "pygments_lexer": "ipython3",
   "version": "3.11.6"
  }
 },
 "nbformat": 4,
 "nbformat_minor": 5
}
