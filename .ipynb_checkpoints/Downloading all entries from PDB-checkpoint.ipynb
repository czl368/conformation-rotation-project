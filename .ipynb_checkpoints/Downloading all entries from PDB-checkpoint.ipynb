{
 "cells": [
  {
   "cell_type": "code",
   "execution_count": 2,
   "id": "518435df",
   "metadata": {
    "scrolled": true
   },
   "outputs": [],
   "source": [
    "import biotite.database.rcsb as rcsb\n",
    "import biotite.structure.io.pdbx as pdbx\n",
    "import numpy as np\n",
    "import biotite.structure as struc"
   ]
  },
  {
   "cell_type": "code",
   "execution_count": 3,
   "id": "e25ad85a",
   "metadata": {},
   "outputs": [
    {
     "name": "stdout",
     "output_type": "stream",
     "text": [
      "Total number of pdb files: 80991\n",
      "Done downloading\n"
     ]
    }
   ],
   "source": [
    "#Query for resolution below than 2Å\n",
    "query = rcsb.FieldQuery(\"reflns.d_resolution_high\", less=2)\n",
    "pdb_ids = rcsb.search(query)\n",
    "\n",
    "print(\"Total number of pdb files: \" + str(len(pdb_ids)))\n",
    "\n",
    "#Downloading all pdb files with resolution below 2A\n",
    "file_path = rcsb.fetch(pdb_ids, \"cif\", target_path=\"/Users/christinali/Documents/Rotations/Kim Lab/All pdb files\")\n",
    "\n",
    "print(\"Done downloading\")"
   ]
  }
 ],
 "metadata": {
  "kernelspec": {
   "display_name": "Python 3 (ipykernel)",
   "language": "python",
   "name": "python3"
  },
  "language_info": {
   "codemirror_mode": {
    "name": "ipython",
    "version": 3
   },
   "file_extension": ".py",
   "mimetype": "text/x-python",
   "name": "python",
   "nbconvert_exporter": "python",
   "pygments_lexer": "ipython3",
   "version": "3.11.6"
  }
 },
 "nbformat": 4,
 "nbformat_minor": 5
}
